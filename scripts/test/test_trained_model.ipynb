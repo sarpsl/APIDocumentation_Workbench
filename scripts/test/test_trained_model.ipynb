{
 "cells": [
  {
   "cell_type": "code",
   "execution_count": 6,
   "id": "52826062",
   "metadata": {},
   "outputs": [],
   "source": [
    "from transformers import AutoTokenizer, AutoModelForCausalLM, AutoModelForSeq2SeqLM\n",
    "import json"
   ]
  },
  {
   "cell_type": "code",
   "execution_count": 9,
   "id": "97d76341",
   "metadata": {},
   "outputs": [],
   "source": [
    "model_name = \"../../models/Qwen_Qwen2.5-Coder-0.5B-Instruct-Jarvislabs\"\n",
    "tokenizer = AutoTokenizer.from_pretrained(model_name)\n",
    "model = AutoModelForCausalLM.from_pretrained(model_name)"
   ]
  },
  {
   "cell_type": "code",
   "execution_count": 22,
   "id": "cd207d36",
   "metadata": {},
   "outputs": [],
   "source": [
    "def generate_documnetation(code, expected_doc):\n",
    "    prompt = f'Generate documentation for the following code:\\n{code}\\n\\nDocumentation:\\n'\n",
    "\n",
    "    inputs = tokenizer(prompt, return_tensors=\"pt\", max_length=512)\n",
    "    outputs = model.generate(\n",
    "        inputs.input_ids, \n",
    "        max_length=256,\n",
    "        num_beams=4,\n",
    "        early_stopping=True\n",
    "    )\n",
    "    result = tokenizer.decode(outputs[0], skip_special_tokens=True)\n",
    "\n",
    "    print(f\"\\n----------------------------------------------------------------\")\n",
    "    print(f\"\\nCode: {code}\")\n",
    "    print(f\"\\nExpected Documentation: {expected_doc}\")\n",
    "    doc = result.split(\"Documentation\")[-1].strip()\n",
    "    print(f\"\\nGenerated Documentation: {doc}\")"
   ]
  },
  {
   "cell_type": "code",
   "execution_count": 23,
   "id": "dc4ccec6",
   "metadata": {},
   "outputs": [],
   "source": [
    "json_data = [\n",
    "    {\n",
    "    \"code\": \"protected void notifyReconnectionFailed(Exception exception) { if (isReconnectionAllowed()) { for (ConnectionListener listener : connection.connectionListeners) { listener.reconnectionFailed(exception); } } }\",\n",
    "    \"doc\": \"Fires listeners when a reconnection attempt has failed. @param exception the exception that occured.\",\n",
    "    \"lang\": \"python\"\n",
    "  },\n",
    "  {\n",
    "    \"code\": \"def write_parquet(cls, path, output, sc, partition_num = 1, bigdl_type=\\\"float\\\"): \\\"\\\"\\\" write ImageFrame as parquet file \\\"\\\"\\\" return callBigDlFunc(bigdl_type, \\\"writeParquet\\\", path, output, sc, partition_num)\",\n",
    "    \"doc\": \"write ImageFrame as parquet file\",\n",
    "    \"lang\": \"python\"\n",
    "  },\n",
    "  {\n",
    "    \"code\": \"def list_timezones(self): \\\"\\\"\\\"Return the list of all known timezones.\\\"\\\"\\\" from h2o.expr import ExprNode return h2o.H2OFrame._expr(expr=ExprNode(\\\"listTimeZones\\\"))._frame()\",\n",
    "    \"doc\": \"Return the list of all known timezones.\",\n",
    "    \"lang\": \"python\"\n",
    "  },\n",
    "  {\n",
    "    \"code\": \"@CheckReturnValue @SchedulerSupport(SchedulerSupport.NONE) @SuppressWarnings(\\\"unchecked\\\") public static <T> Observable<T> empty() { return RxJavaPlugins.onAssembly((Observable<T>) ObservableEmpty.INSTANCE); }\",\n",
    "    \"doc\": \"Returns an Observable that emits no items to the {@link Observer} and immediately invokes its {@link Observer#onComplete onComplete} method. <p> <img width=\\\"640\\\" height=\\\"190\\\" src=\\\"https://raw.github.com/wiki/ReactiveX/RxJava/images/rx-operators/empty.png\\\" alt=\\\"\\\"> <dl> <dt><b>Scheduler:</b></dt> <dd>{@code empty} does not operate by default on a particular {@link Scheduler}.</dd> </dl> @param <T> the type of the items (ostensibly) emitted by the ObservableSource @return an Observable that emits no items to the {@link Observer} but immediately invokes the {@link Observer}'s {@link Observer#onComplete() onComplete} method @see <a href=\\\"http://reactivex.io/documentation/operators/empty-never-throw.html\\\">ReactiveX operators documentation: Empty</a>\",\n",
    "    \"lang\": \"java\"\n",
    "  },\n",
    "  {\n",
    "    \"code\": \"public static void runTaskCollection() throws Exception { Map<String, String> propMap = BenchmarkUtils .getSystemProperties(new String[] { Constants.TASK_CLASS_NAME, Constants.WARM_UPS, Constants.RUNS, Constants.TASK_PARAMS }); TaskCollection collection = TaskFactory.createTaskCollection(propMap .get(Constants.TASK_CLASS_NAME), BenchmarkUtils .getCommaSeparatedParameter(Constants.TASK_PARAMS)); RepeatEachTaskRunner runner = new RepeatEachTaskRunner(Integer.valueOf(propMap .get(Constants.WARM_UPS)), Integer.valueOf(propMap .get(Constants.RUNS))); runner.run(collection); }\",\n",
    "    \"doc\": \"/* A macro method, reads system properties, instantiates the task collection and runs it\",\n",
    "    \"lang\": \"java\",\n",
    "  }\n",
    "]"
   ]
  },
  {
   "cell_type": "code",
   "execution_count": 24,
   "id": "286f1c0d",
   "metadata": {},
   "outputs": [
    {
     "name": "stdout",
     "output_type": "stream",
     "text": [
      "\n",
      "----------------------------------------------------------------\n",
      "\n",
      "Code: protected void notifyReconnectionFailed(Exception exception) { if (isReconnectionAllowed()) { for (ConnectionListener listener : connection.connectionListeners) { listener.reconnectionFailed(exception); } } }\n",
      "\n",
      "Expected Documentation: protected void notifyReconnectionFailed(Exception exception) { if (isReconnectionAllowed()) { for (ConnectionListener listener : connection.connectionListeners) { listener.reconnectionFailed(exception); } } }\n",
      "\n",
      "Generated Documentation: :\n",
      "Notifies all listeners that a reconnection attempt has failed. @param exception the exception that caused the reconnection attempt to fail @since 4.0.10 @since 5.0.0 @since 6.0.0 @since 7.0.0 @since 8.0.0 @since 9.0.0 @since 10.0.0 @since 11.0.0 @since 12.0.0 @since 13.0.0 @since 14.0.0 @since 15.0.0 @since 16.0.0 @since 17.0.0 @since 18.0.0 @since 19.0.0 @since 20.0.0 @since 21.0.0 @since 22.0.0 @since 23.0.0 @since 24.0.0\n",
      "\n",
      "----------------------------------------------------------------\n",
      "\n",
      "Code: def write_parquet(cls, path, output, sc, partition_num = 1, bigdl_type=\"float\"): \"\"\" write ImageFrame as parquet file \"\"\" return callBigDlFunc(bigdl_type, \"writeParquet\", path, output, sc, partition_num)\n",
      "\n",
      "Expected Documentation: def write_parquet(cls, path, output, sc, partition_num = 1, bigdl_type=\"float\"): \"\"\" write ImageFrame as parquet file \"\"\" return callBigDlFunc(bigdl_type, \"writeParquet\", path, output, sc, partition_num)\n",
      "\n",
      "Generated Documentation: :\n",
      "write ImageFrame as parquet file Parameters ---------- path: str output: str sc: SparkContext partition_num: int bigdl_type: str Returns ------- None Examples ------- >>> from pyspark.sql import SparkSession from pyspark.sql.functions import col from pyspark.sql.types import IntegerType from pyspark.sql.functions import col from pyspark.sql.functions import col from pyspark.sql.functions import col from pyspark.sql.functions import col from pyspark.sql.functions import col from pyspark.sql.functions import col from pyspark.sql.functions import col from pyspark.sql.functions import col from pyspark.sql.functions import col from pyspark.sql.functions import col from pyspark.sql.functions import col from pyspark.sql.functions import col from pyspark.sql.functions import col from pyspark.sql.functions import col from pyspark.sql.functions import col from pyspark.sql.functions import col from pyspark.sql.functions import col from pyspark.sql.functions import col from pyspark.sql.functions import col from\n",
      "\n",
      "----------------------------------------------------------------\n",
      "\n",
      "Code: def list_timezones(self): \"\"\"Return the list of all known timezones.\"\"\" from h2o.expr import ExprNode return h2o.H2OFrame._expr(expr=ExprNode(\"listTimeZones\"))._frame()\n",
      "\n",
      "Expected Documentation: def list_timezones(self): \"\"\"Return the list of all known timezones.\"\"\" from h2o.expr import ExprNode return h2o.H2OFrame._expr(expr=ExprNode(\"listTimeZones\"))._frame()\n",
      "\n",
      "Generated Documentation: \n",
      "\n",
      "----------------------------------------------------------------\n",
      "\n",
      "Code: @CheckReturnValue @SchedulerSupport(SchedulerSupport.NONE) @SuppressWarnings(\"unchecked\") public static <T> Observable<T> empty() { return RxJavaPlugins.onAssembly((Observable<T>) ObservableEmpty.INSTANCE); }\n",
      "\n",
      "Expected Documentation: @CheckReturnValue @SchedulerSupport(SchedulerSupport.NONE) @SuppressWarnings(\"unchecked\") public static <T> Observable<T> empty() { return RxJavaPlugins.onAssembly((Observable<T>) ObservableEmpty.INSTANCE); }\n",
      "\n",
      "Generated Documentation: :\n",
      "Returns an empty Observable. @return An empty Observable. @see Observable#empty() @see Observable#empty() @see Observable#empty() @see Observable#empty() @see Observable#empty() @see Observable#empty() @see Observable#empty() @see Observable#empty() @see Observable#empty() @see Observable#empty() @see Observable#empty() @see Observable#empty() @see Observable#empty() @see Observable#empty() @see Observable#empty() @see Observable#empty() @see Observable#empty() @see Observable#empty() @see Observable#empty() @see Observable#empty() @see Observable#empty() @see Observable#empty() @see Observable#empty() @see Observable#empty() @see Observable#empty() @see Observable#empty() @see Observable#empty() @see Observable#empty() @see Observable#empty() @see Observable#empty() @see Observable#empty() @see Observable#empty() @see\n",
      "\n",
      "----------------------------------------------------------------\n",
      "\n",
      "Code: public static void runTaskCollection() throws Exception { Map<String, String> propMap = BenchmarkUtils .getSystemProperties(new String[] { Constants.TASK_CLASS_NAME, Constants.WARM_UPS, Constants.RUNS, Constants.TASK_PARAMS }); TaskCollection collection = TaskFactory.createTaskCollection(propMap .get(Constants.TASK_CLASS_NAME), BenchmarkUtils .getCommaSeparatedParameter(Constants.TASK_PARAMS)); RepeatEachTaskRunner runner = new RepeatEachTaskRunner(Integer.valueOf(propMap .get(Constants.WARM_UPS)), Integer.valueOf(propMap .get(Constants.RUNS))); runner.run(collection); }\n",
      "\n",
      "Expected Documentation: public static void runTaskCollection() throws Exception { Map<String, String> propMap = BenchmarkUtils .getSystemProperties(new String[] { Constants.TASK_CLASS_NAME, Constants.WARM_UPS, Constants.RUNS, Constants.TASK_PARAMS }); TaskCollection collection = TaskFactory.createTaskCollection(propMap .get(Constants.TASK_CLASS_NAME), BenchmarkUtils .getCommaSeparatedParameter(Constants.TASK_PARAMS)); RepeatEachTaskRunner runner = new RepeatEachTaskRunner(Integer.valueOf(propMap .get(Constants.WARM_UPS)), Integer.valueOf(propMap .get(Constants.RUNS))); runner.run(collection); }\n",
      "\n",
      "Generated Documentation: :\n",
      "Runs the task collection. @throws Exception Thrown if the task collection could not be run. @see TaskCollectionRunner#run(TaskCollection) @see RepeatEachTaskRunner#run(TaskCollection) @see TaskFactory#createTaskCollection(String, String) @see BenchmarkUtils#getCommaSeparatedParameter(String) @see BenchmarkUtils#getSystemProperties(String[]) @see TaskFactory#TaskFactory(String, String) @see TaskFactory#TaskFactory(String, String, String) @see TaskFactory#TaskFactory(String, String, String, String) @see TaskFactory#TaskFactory(String, String, String, String, String)\n"
     ]
    }
   ],
   "source": [
    "for item in json_data:\n",
    "    code = item['code']\n",
    "    expected_doc = item['code']\n",
    "    generate_documnetation(code, expected_doc)"
   ]
  },
  {
   "cell_type": "code",
   "execution_count": null,
   "id": "b55c0a3c",
   "metadata": {},
   "outputs": [],
   "source": []
  }
 ],
 "metadata": {
  "kernelspec": {
   "display_name": "venv",
   "language": "python",
   "name": "python3"
  },
  "language_info": {
   "codemirror_mode": {
    "name": "ipython",
    "version": 3
   },
   "file_extension": ".py",
   "mimetype": "text/x-python",
   "name": "python",
   "nbconvert_exporter": "python",
   "pygments_lexer": "ipython3",
   "version": "3.13.2"
  }
 },
 "nbformat": 4,
 "nbformat_minor": 5
}
