{
 "cells": [
  {
   "cell_type": "code",
   "execution_count": null,
   "id": "41b8856f",
   "metadata": {},
   "outputs": [
    {
     "ename": "SyntaxError",
     "evalue": "closing parenthesis ']' does not match opening parenthesis '{' on line 22 (343685252.py, line 26)",
     "output_type": "error",
     "traceback": [
      "  \u001b[36mCell\u001b[39m\u001b[36m \u001b[39m\u001b[32mIn[26]\u001b[39m\u001b[32m, line 26\u001b[39m\n\u001b[31m    \u001b[39m\u001b[31m]\u001b[39m\n    ^\n\u001b[31mSyntaxError\u001b[39m\u001b[31m:\u001b[39m closing parenthesis ']' does not match opening parenthesis '{' on line 22\n"
     ]
    }
   ],
   "source": [
    "import docformatter\n",
    "from IPython.display import HTML, display, Markdown, TextDisplayObject, Pretty\n",
    "import re\n",
    "\n",
    "def format_doc(doc):\n",
    "    # Try to split sections for better formatting\n",
    "    # Replace section headers with Markdown headings\n",
    "    doc = re.sub(r'Parameters\\s*-+', r'**Parameters**\\n', doc)\n",
    "    doc = re.sub(r'Returns\\s*-+', r'**Returns**\\n', doc)\n",
    "    doc = re.sub(r'Examples\\s*-+', r'**Examples**\\n', doc)\n",
    "    # Add line breaks before parameter descriptions\n",
    "    doc = re.sub(r'(\\w+\\s*:\\s*\\w+)', r'\\n\\1', doc)\n",
    "    doc = re.sub(r'(@returns)', r'<br/><br/>\\1', doc)\n",
    "    doc = re.sub(r'(@see)', r'<br/><br/>\\1', doc)\n",
    "    doc = re.sub(r'(@param)', r'<br/><br/>\\1', doc)\n",
    "    doc = re.sub(r'(@since)', r'<br/><br/>\\1', doc)\n",
    "    doc = re.sub(r'(@deprecated)', r'<br/><br/>\\1', doc)\n",
    "    doc = re.sub(r'(>>> )', r'<br/>\\1', doc)\n",
    "    return doc\n",
    "\n",
    "items = [\n",
    "    # \"\"\"Returns an Observable that emits no items to the {@link Observer} and immediately invokes its {@link Observer#onComplete onComplete} method. <p> <img width=\"640\" height=\"190\" src=\"https://raw.github.com/wiki/ReactiveX/RxJava/images/rx-operators/empty.png\" alt=\"\"> <dl> <dt><b>Scheduler:</b></dt> <dd>{@code empty} does not operate by default on a particular {@link Scheduler}.</dd> </dl> @param <T> the type of the items (ostensibly) emitted by the ObservableSource @return an Observable that emits no items to the {@link Observer} but immediately invokes the {@link Observer}'s {@link Observer#onComplete() onComplete} method @see <a href=\"http://reactivex.io/documentation/operators/empty-never-throw.html\">ReactiveX operators documentation: Empty</a>\"\"\",\n",
    "    \"\"\"Returns an empty Observable. @return An empty Observable. @see Observable#empty()\"\"\",\n",
    "    \"\"\": Return the maximum value in a list. If the list is empty, return None. Parameters: lst (list): The list to evaluate. Returns: The maximum value in the list, or None if the list is empty. Examples: >>> max_in_list([]) None >>> max_in_list([1, 2, 3, 4, 5]) 5 >>> max_in_list([1, 2, 3, 4, 5, 6]) 6 >>> max_in_list([1, 2, 3, 4, 5, 6, 7]) 7 \"\"\",\n",
    "    \"\"\": Safely divide a by b. Returns None if b is zero. Parameters ---------- a : float b : float Returns ------- safe_divide(a, b) : float None if b is zero. Examples --------\"\"\"\n",
    "]\n",
    "\n",
    "def display(doc):\n",
    "    print(\"\\n----------------------------------------\")\n",
    "    doc = format_doc(doc)\n",
    "    # print(\"\\nHTML\")\n",
    "    # display(HTML(doc))\n",
    "    # print(\"\\nMarkdown\")\n",
    "    # display(Markdown(doc))\n",
    "    # print(\"\\nPretty\")\n",
    "    # display(Pretty(doc))\n",
    "\n",
    "\n",
    "for item in items:\n",
    "    display(item)\n"
   ]
  },
  {
   "cell_type": "code",
   "execution_count": null,
   "id": "10b884a0",
   "metadata": {},
   "outputs": [],
   "source": []
  }
 ],
 "metadata": {
  "kernelspec": {
   "display_name": "venv",
   "language": "python",
   "name": "python3"
  },
  "language_info": {
   "codemirror_mode": {
    "name": "ipython",
    "version": 3
   },
   "file_extension": ".py",
   "mimetype": "text/x-python",
   "name": "python",
   "nbconvert_exporter": "python",
   "pygments_lexer": "ipython3",
   "version": "3.13.2"
  }
 },
 "nbformat": 4,
 "nbformat_minor": 5
}
